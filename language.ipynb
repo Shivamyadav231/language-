{
 "cells": [
  {
   "cell_type": "code",
   "execution_count": 1,
   "id": "9da6e53c",
   "metadata": {},
   "outputs": [],
   "source": [
    "import numpy as np\n",
    "import pandas as pd\n",
    "import matplotlib.pyplot as plt\n"
   ]
  },
  {
   "cell_type": "code",
   "execution_count": 2,
   "id": "e0b34c2b",
   "metadata": {},
   "outputs": [],
   "source": [
    "data= pd.read_csv('language.csv')"
   ]
  },
  {
   "cell_type": "code",
   "execution_count": 3,
   "id": "429ae39c",
   "metadata": {},
   "outputs": [
    {
     "data": {
      "application/vnd.microsoft.datawrangler.viewer.v0+json": {
       "columns": [
        {
         "name": "index",
         "rawType": "int64",
         "type": "integer"
        },
        {
         "name": "Text",
         "rawType": "object",
         "type": "string"
        },
        {
         "name": "language",
         "rawType": "object",
         "type": "string"
        }
       ],
       "ref": "3cc1a6c9-b86a-4889-992e-f17e459fff6f",
       "rows": [
        [
         "0",
         "klement gottwaldi surnukeha palsameeriti ning paigutati mausoleumi surnukeha oli aga liiga hilja ja oskamatult palsameeritud ning hakkas ilmutama lagunemise tundemärke  aastal viidi ta surnukeha mausoleumist ära ja kremeeriti zlíni linn kandis aastatel – nime gottwaldov ukrainas harkivi oblastis kandis zmiivi linn aastatel – nime gotvald",
         "Estonian"
        ],
        [
         "1",
         "sebes joseph pereira thomas  på eng the jesuits and the sino-russian treaty of nerchinsk  the diary of thomas pereira bibliotheca instituti historici s i --   rome libris ",
         "Swedish"
        ],
        [
         "2",
         "ถนนเจริญกรุง อักษรโรมัน thanon charoen krung เริ่มตั้งแต่ถนนสนามไชยถึงแม่น้ำเจ้าพระยาที่ถนนตก กรุงเทพมหานคร เป็นถนนรุ่นแรกที่ใช้เทคนิคการสร้างแบบตะวันตก ปัจจุบันผ่านพื้นที่เขตพระนคร เขตป้อมปราบศัตรูพ่าย เขตสัมพันธวงศ์ เขตบางรัก เขตสาทร และเขตบางคอแหลม",
         "Thai"
        ],
        [
         "3",
         "விசாகப்பட்டினம் தமிழ்ச்சங்கத்தை இந்துப் பத்திரிகை-விசாகப்பட்டின ஆசிரியர் சம்பத்துடன் இணைந்து விரிவுபடுத்தினார்  ஆண்டுகள் தொடர்ந்து செயலராக இருந்து தமிழ்மன்றத்தை நடத்திச் சென்றார்  கோவை செம்மொழி மாநாட்டில் \"தமிழ்ச்சங்கங்களும் தமிழும்\" எனும் தலைப்பில் பிற மாநிலங்களில் தமிழ்வளர்ச்சி பற்றி கட்டுரை வாசித்தார்",
         "Tamil"
        ],
        [
         "4",
         "de spons behoort tot het geslacht haliclona en behoort tot de familie chalinidae de wetenschappelijke naam van de soort werd voor het eerst geldig gepubliceerd in  door kudelin",
         "Dutch"
        ],
        [
         "5",
         "エノが行きがかりでバスに乗ってしまい、気分が悪くなった際に助けるが、今すぐバスを降りたいと運転手に頼む際、本当のことを言ってしまうと彼女が恥ずかしい思いをすると察して「僕ウンコしたいんです」と言ってバスを降りた。エノは内心「私もしたいみたいじゃないの」と思うも、別れ際にエノの髪を「ふわふわのお菓子みたい」と言い、この台詞に憧れていたエノに強い衝撃を与えた。この話を聞いたリコは、以後彼のことを『ウンコ王子』または『ウンコ』というあだ名で呼ぶようになったが、エノは普通に「戸田くん」と呼んでいる。",
         "Japanese"
        ],
        [
         "6",
         "tsutinalar i̇ngilizce tsuutina kanadada alberta bölgesinde calgaryde yaşarlar tek başına grup oluştururlar ve pasifik ve güney atabaskları ile antik yakınlıklar göstermiştir",
         "Turkish"
        ],
        [
         "7",
         "müller mox figura centralis circulorum doctorum vindobonesium fiebat quibus intererant petrus altenberg albertus ehrenstein egon friedell anscharius kokoschka adolphus loos egon schiele et alii",
         "Latin"
        ],
        [
         "8",
         "برقی بار electric charge تمام زیرجوہری ذرات کی ا یک بنیادی محفوظہ conserved خصوصیت ہے جو انکے برقناطیسی تفاعلات کا تعین کرتی ہے۔ اس بات یوں بھی کہ سکتے ہیں کہ برقی بار کا حامل ذرہ یا مادہ  ایک برقناطیسی میدان کی وجہ سے متاثر ہوتا ہے یا اسکے زیر اثر ہوتا ہے جبکہ خود اسی کی وجہ سے برقناطیسی میدان پیدا بھی ہوتا ہے۔ برقناطیسی میدان اور اس میں حرکت کرتے ہوئے ایک بار دار ذرے کے آپس میں تفاعل interaction سے ایک قسم کی قوت یا توانائی نمودار ہوتی ہے جس کو برقناطیسی قوت کہا جاتا ہے۔ اور یہ برقناطیسی قوت  دراصل اس کائنات میں پائی جانے والی چار بنیادی قوتوں میں سے ایک ہے۔",
         "Urdu"
        ],
        [
         "9",
         "シャーリー・フィールドは、サン・ベルナルド・アベニュー沿い市民センターとrtマーティン高校に隣接してある。年にマーティン高校と共に建設された。ラレド独立学区のアウトドア・アスレチックがあり、毎年ボーダー・オリンピックが開催される。通常席だが、エンドゾーンに追加席を加えることで席まで拡大できる。メキシコのプロ・サッカークラブがここで様々な練習試合を行い、天然芝が「良い」サッカー試合を作るとしている。フットボール、サッカーおよび陸上競技が行われる。この歴史ある競技場に大きな改修工事が計画されている。",
         "Japanese"
        ],
        [
         "10",
         "kemunculan pertamanya adalah ketika mencium kakak kelasnya kyoko sejak yuuki meminta agar sakura merahasiakan hal tersebutlah keduanya menjadi akrab yuuki pun akhirnya menyukai sakura sayangnya tidak disadari oleh sakura dan hanya aiko yang tahu karena takut dibenci sakura yuuki akhirnya menganggap sakura \"sahabat spesial\"",
         "Indonesian"
        ],
        [
         "11",
         "barocco pt escândalo de ª página é um filme francês dirigido por andré téchiné estreado em  e protagonizado por gérard depardieu e isabelle adjani",
         "Portugese"
        ],
        [
         "12",
         "association de recherche et de sauvegarde de lhistoire de roissy-en-france arshrf roissy-en-france    mémoire dun siècle  voir dans la bibliographie",
         "French"
        ],
        [
         "13",
         "胡赛尼本人和小说的主人公阿米尔一样，都是出生在阿富汗首都喀布尔，少年时代便离开了这个国家。胡赛尼直到年小说出版之后才首次回到已经离开年的祖国。他在苏联入侵时离开了阿富汗，而他的很多童年好友在阿富汗生活艰难，还有一些表亲离开人世，其中一位在童年时代和他一起放风筝的表兄弟就是在逃离阿富汗时死在了油罐车中（这一情节在《追风筝的人》中也有描写），而这位表兄弟的父亲也被人枪杀；因此胡赛尼总是怀有幸存者所特有的一种内疚心态，这种情感在小说中也有体现。很多人因此认为这部小说有些自传色彩。胡赛尼则表示小说中确实有一部分内容是根据自己的经历创作的，他和故事主人公也有很多相似点，但是一些内容被他刻意地模糊处理了。尽管和主人公的经历有诸多的相似点，胡赛尼仍然坚称小说情节确实是虚构的。之后胡赛尼在创作他的第二部小说《灿烂千阳》时把主人公设定为女性，称“这样应该就能一劳永逸地解决人们关于‘自传’的问题了”。",
         "Chinese"
        ],
        [
         "14",
         "한국에서 성씨가 사용되기 시작한 정확한 시기는 알 수 없으나 한자漢字 등 중국 문물이 수입되었던 시기에 그와 함께 도입되었을 것으로 추정된다 씨족 사회와 그 집단을 통치하는 지배자 계급이 발생함으로써 성씨는 다른 씨족이나 피지배 계급과 구별하기 위한 목적 즉 정치적 신분을 나타내는 표지로 쓰이게 되었다",
         "Korean"
        ],
        [
         "15",
         "การฟาดฟันของบรรดาสาวงามในกองประกวด miss beauty and talent thailand ว่าร้อนแรงแล้ว การแข่งขัน ระหว่างเวทีก็ดุเดือดไม่แพ้กัน เมื่อ คุณไก่ อรนภา กฤษฎี เจ้าของเวที miss elegant thailand เวทีประกวดสาวงามคู่แข่ง คิดจะทำลายเวที miss beauty and talent thailand เพื่อที่ว่าเวทีประกวดของตนเองจะขึ้นเป็นอันดับหนึ่งแทนที่ จึงได้ใช้ให้ อลิส ราศี วัชราพลเมฆ ผู้ช่วยของนัสรินคอยเป็นคนสร้างข่าวฉาวทำลายเวทีจากภายใน โลกของผู้หญิงสวยและการฟาดฟันเชือดเฉือน โลกของเวทีขาอ่อนที่ซ่อนเขี้ยวเล็บไว้ ใครจะอยู่ใครจะไป",
         "Thai"
        ],
        [
         "16",
         "dorota rabczewska artistinimega doda sündinud  veebruaril  on kuulus poola rokk- ja poplaulja ta on kõige rohkem auhindu võitnud laulja poolas doda on tuntuks laulnud sellised hitid nagu \"szansa\" \"katharsis\" ja \"nie daj się\"",
         "Estonian"
        ],
        [
         "17",
         "diante destes gerenciamentos podendo ser feitos pela própria empresa mais comum em média e grandes empresas ou até mesmo por empresas terceiras especializadas em monitoramento de redes noc é notável o ganho de agilidade e eficiência em prol dos objetivos da empresa",
         "Portugese"
        ],
        [
         "18",
         "besemer s van der geest v murray j bijleveld c c j h and farrington d p  the relationship between parental imprisonment and offspring offending in england and the netherlands british journal of criminology  -",
         "Portugese"
        ],
        [
         "19",
         "महाराष्ट्र  मई  को भारत का राज्य बनाया गया था। इस दिन को हम महाराष्ट्र दिन के भी नाम से जानते है। शुरू में महाराष्ट्र में  जिले थे। उसके बाद  नये जिले बनाएँ गये है। वर्तमान के महाराष्ट्र में  जिले है। इन जिलों को छह प्रशासनिक विभागों में विभाजित किया गया है।",
         "Hindi"
        ],
        [
         "20",
         "ஆங்கில எழுத்துக்களை மட்டும் அல்லாமல் பன்மொழி எழுத்துக்களையும் பயன்படுத்தக்கூடியவாறு சீரான வள அடையாளங்காட்டி முறைமை அனைத்துலக வள அடையாளங்காட்டி முறை ஊடாக நீட்டப்பட்டுள்ளது",
         "Tamil"
        ],
        [
         "21",
         "en navidad de  poco después de que interpretó la canción en francés película papillon toi qui regarde la mer ella cantará la espléndida versión de gloria aleluya para una misa de medianoche celebrada por rtl",
         "Spanish"
        ],
        [
         "22",
         "la chirurgie comprenant principalement lablation de la tumeur la néphrectomie élargie comprenant le plus souvent la surrénale et les ganglions situés à proximité",
         "French"
        ],
        [
         "23",
         "dès les années  les communes voisines darnouville goussainville et dans une moindre mesure louvres desservies par la ligne ferroviaire paris-lille connurent une expansion démographique spectaculaire avec la création de nombreux lotissements de banlieue roissy demeurée à lécart du chemin de fer et de lindustrialisation restait un village agricole et sappauvrit progressivement le nombre de commerces passa de quatre-vingt-quatre en  à seulement dix-huit en  le même phénomène se produisit dans de nombreux autres villages du pays de france non desservis par une voie ferrée",
         "French"
        ],
        [
         "24",
         "merilai a maria-kristiina lotman toim  methis studia humaniora estonica  poeetika erinumber tartu tartu ülikooli kirjastus",
         "Estonian"
        ],
        [
         "25",
         "효모는 세포 수준의 생물학에서 모델 생물의 첫 번째 본보기로 간주해도 좋을 것이다 호흡 및 효소에 대한 생화학 분야는 여기에서 시작된다 이어 아카빤카비가 유전학 연구에서 이용되면서 유명해졌다 그 이후에도 기초 생물학의 여러 분야는 미생물을 모델로 사용하여 왔으나 오히려 균류보다 더 작고 단순한 미생물이다 박테리아류나 바이러스가 분자 생물학이나 유전학의 모델로 사용되는 것이 많아졌다 그러나 이러한 생물은 원핵 세포이며 우리와 같은 진핵 세포가 아니므로 가장 다루기 쉬운 진핵 생물로 균류가 사용되는 예는 많다 자주 사용되는 것은 신진 효모 saccharomyces cerevisiae와 분열 효모 schizosaccharomyces pombe이다",
         "Korean"
        ],
        [
         "26",
         "au er avril  les services asama sont actuellement effectués par des shinkansen série e et w de  à  ils étaient également effectués par des shinkansen série e",
         "French"
        ],
        [
         "27",
         "لویي په کالونیو کې د ظلم کولو خلاف وو او له خلکو سره ېې خاص همدردي لرله د هر ډول غلامي انعطاف ناپذیره دشمن وو د خلکو د رفاه لپاره ېې ډېرې هلې ځلې کولې ډېره هڅه ېې دا وه چې په افریقا کې د ځایي خلکو ټولنه جوړه کړي کله ېې چې تولنه جوړه کړه د دوي مشرانو باندې ېې د فرانسې د گټو ساتنه زدکړه او حتی داسې یو بنسټ ېې کېښود چې د دوي بچي چې وروسته به قدرت ته رسېږي د فرانسې گټو ته وفاداره پاتې کېږي لویي کوښښ وکړ چې سېنېگال داسې یوه بنسټیزه زاویه کړي له کوم ځای چې ټولې فرانسوی کالونی یا مستعمرې کنټرول کېدای شي",
         "Pushto"
        ],
        [
         "28",
         "de prinses was als erfgename van polen een goede partij voor de boheemse koning wenceslaus ii in  werd ze naar bohemen gebracht en werd er opgevoed door de tante van wenceslaus ii in  huwde de toen -jarige richezza met de -jarige wenceslaus ii die naast koning van bohemen in  ook koning van polen was geworden vervolgens werd richezza door hendrik van würben de bisschop van breslau tot koningin-gemalin van bohemen gekroond en nam ze voortaan de naam elisabeth aan in  baarde richezza een dochter agnes de verwachte zoon die de poolse kroon zou erven kwam er niet meer omdat wenceslaus ii in juni  stierf hierdoor werd richezza op slechts -jarige leeftijd al weduwe",
         "Dutch"
        ],
        [
         "29",
         "آهن ترکیباتی را ایجاد می‌کند که عمدتاً در حالت‌های اکسیداسیون  و  هستند به‌طور سنتی ترکیبات آهن ii فروس نامیده می‌شوند و ترکیبات آهن iii فریک نامیده می‌شود ترکیبات زیادی در هر یک از حالات اکسیداسیون وجود دارد که مثال‌هایی از آن شامل سولفات آهن ii feso و کلرید آهن iii fecl می‌باشد",
         "Persian"
        ],
        [
         "30",
         "lalimentation industrielle convient parfaitement à la croissance du chiot et à ladulte lalimentation ménagère nécessite un supplément en vitamines et en calcium",
         "French"
        ],
        [
         "31",
         "de-a lungul vieții watson a fost interesat de relațiile internaționale atât din perspectivă diplomatică cât și din perspectivă economică era cunoscut drept emisar neoficial al lui franklin d roosevelt în new york și primea frecvent vizita unor demnitari străini în  a fost ales președinte al camerei internaționale de comerț icc și la congresul bienal desfășurat la berlin a afirmat că mottoul conferinței este pace mondială prin comerț mondial aceste cuvinte au devenit sloganul icc și ibm",
         "Romanian"
        ],
        [
         "32",
         "занимает пятое место в диптихе автокефальных поместных церквей мира крупнейшая религиозная организация в россии на украине на  год по числу приходов духовенства и культовых сооружений но по некоторым опросам на начало  года не по количеству верующих в белоруссии молдавии включая приднестровье",
         "Russian"
        ],
        [
         "33",
         "藤女の女性教師。歳。数学担当。風紀指導を担当しており、リコにとっては天敵。藤女とその伝統に強い誇りを抱いており、サヨの彼氏バレの際には厳しい態度を取る。その一方で体育祭の時に天ヶ崎が仕込んだ悪ふざけを承知の上で見逃したり、生徒会執行部が何事か画策しているのを悟りながらある一線を越えない限り黙認するなど、単なる堅物ではない一面ものぞかせる。体育祭の応援合戦でマキマキオから白いバラを受け取った際には、顔を真っ赤にしていた。",
         "Japanese"
        ],
        [
         "34",
         "walter kaudern dalam bukunya menyatakan wawo lage dianggap sebagai desa asal mereka desa ini sendiri terletak pada wilayah khusus di sungai sinaolea tepat di wilayah sungai yang menikung tajam dari selatan ke barat di desa ini to lage yang sering berperang dengan suku tetangga mereka telah berkembang menjadi suku yang relatif kuat dan berkuasa pada akhir abad ke- ketika posisi belanda di sulawesi menjadi semakin berpengaruh to lage tinggal di sejumlah desa yang kuat",
         "Indonesian"
        ],
        [
         "35",
         "imprimat psalterium quzhayae librum primum imprimatus in libano psalterium est liber psalmorum in lingua arabica cum litteras aramicas garshuni",
         "Latin"
        ],
        [
         "36",
         "media [sc via] sive mese graece ἡ μέση [sc ὁδός] erat urbis constantinopolis via principalis quae palatium imperiale et portam auream inter se conectit a quo loco incepit via egnatia",
         "Latin"
        ],
        [
         "37",
         "in  johnson was awarded an american institute of architects gold medal in  he became the first recipient of the pritzker architecture prize the most prestigious international architectural award",
         "English"
        ],
        [
         "38",
         "attirant dans ses clubs les meilleurs joueurs des deux hémisphères monnayant des droits de diffusion tv avantageux populaire auprès du public qui garnit les stades le top  est aujourdhui considéré comme le championnat national de rugby le plus riche au monde",
         "French"
        ],
        [
         "39",
         "poço de jacó está localizado a  metros de tell balata na parte oriental da cidade de nablus dentro do recinto do mosteiro de bir yaqub o poço é localizado na entrada da igreja nos terrenos do mosteiro e descendo as escadas até a cripta onde o poço é conservado junto com \"um pequeno guincho um balde ícones de ex-votos e muitas velas acesas\" a tumba de josé está localizado ao norte do poço de jacó em um prédio da era otomana marcado por uma cúpula branca",
         "Portugese"
        ],
        [
         "40",
         "bussy-saint-georges has built its identity on a green model environment with parks and gardens they represent  hectares of integrated green spaces  kilometres  miles of soft connecting links  squares and parks in the city centre  pools and more than  trees today",
         "English"
        ],
        [
         "41",
         "زلاتان ابراھیموویچ zlatan ibrahimović سویڈش تلفظ [ˈslaːtan ɪbraˈhiːmovɪtʂ] بوسنیائی تلفظ [ˈzlatan ibraˈxiːmɔʋitɕ] ایک سویڈش پیشہ ورانہ فوٹبالر ہے جو بطور اسٹرائیکر لیگ  کلب پیرس سینٹ جرمین ligue  club paris saint-germain اور سویڈش قومی ٹیم میں بھی بطور کپتان کھیلتا ہے۔",
         "Urdu"
        ],
        [
         "42",
         "lock helen  \"a mans story is his gris-gris\" ishmael reeds neo-hoodoo aesthetic and the african-american tradition south central review  – jstor ",
         "Latin"
        ],
        [
         "43",
         "bintang ini memiliki nama tradisional sulafat sulaphat berasal dari bahasa arab السلحفاة al-sulḥafāt yang berarti \"kura-kura\" nama alternatif adalah jugum berasal dari bahasa latin iugum berarti \"penyeimbang\" nama lainnya untuk bintang ini adalah ",
         "Indonesian"
        ],
        [
         "44",
         "dalam bahasa inggris istilah easter paskah menurut bede berasal dari bahasa saxon yaitu kata ēastre atau ēostre pengucapan inggris lama [ˈæːɑstre ˈeːostre] yang masih berhubungan dengan estre seorang dewi bangsa teutonik dewi cahaya fajar dan musim semi yang perayaannya berdekatan dengan perayaan paskah yang sudah tidak dikenal lagi pada zaman bede bahkan di \"edda\" bahasa anglo-saxon termasuk inggris eâster eâstron jerman kuno ôstra ôstrara ôstrarûn jerman ostern april disebut easter-monadh bentuk plural eâstron digunakan karena perayaannya berlangsung selama tujuh hari seperti bentuk plural dalam bahasa perancis pâques istilah tersebut diterjemahkan dari bahasa latin festa paschalia seluruh oktaf paskah",
         "Indonesian"
        ],
        [
         "45",
         "教会旋法はまず終止音（finalis）によってつに分類される。そしてそれぞれが音域（ambitus）によって終止音から高くまで上がる正格（authenticus）とあまり上がらない変格（plagalis）のつに分けられる。 例えば、ドリア旋法はニ音を終止音とする正格旋法であり、ヒポドリア旋法はその変格旋法である。",
         "Japanese"
        ],
        [
         "46",
         "قبل عام بالضبط وبتاريخ  أعلن البغدادي خطة هدم الأسوار وبتاريخ  هاجمت داعش سجنين في بغداد هما سجن التاجي وسجن بغداد المركزي ونجحت في تهريب أكثر من  معتقل ",
         "Arabic"
        ],
        [
         "47",
         "ـــ په  رجب  هـ ق كال دوانت وايگل ولسوالي دجمچگل په سيمه كې داشغالگرو عسكرو خورا ستر بيس چې دوئ ته يې خورا ستراتيژيك اهميت درلود دمجاهدينو دمسلسلو بريدونو له امله تخليه كړ او گڼ شمیر غنيمتونه دمجاهدينو لاس ته ورغلل ",
         "Pushto"
        ],
        [
         "48",
         "ia menikahi giacomina wafat  februari  putri ugolino della gherardesca pada tahun  atas anjuran ayahnya meskipun ia telah memiliki keturunan hasil hubungannya dengan vera cappai di villasalto ia digantikan oleh putranya andrew dan marianus ia meninggalkan seorang putri yang sah joanna yang wafat pada tahun ",
         "Indonesian"
        ],
        [
         "49",
         "theokritos herdediktning har tjänat som förebild för den romerska exempelvis vergilius liksom för senrenässansens och rokokons herdeidyller",
         "Swedish"
        ]
       ],
       "shape": {
        "columns": 2,
        "rows": 22000
       }
      },
      "text/html": [
       "<div>\n",
       "<style scoped>\n",
       "    .dataframe tbody tr th:only-of-type {\n",
       "        vertical-align: middle;\n",
       "    }\n",
       "\n",
       "    .dataframe tbody tr th {\n",
       "        vertical-align: top;\n",
       "    }\n",
       "\n",
       "    .dataframe thead th {\n",
       "        text-align: right;\n",
       "    }\n",
       "</style>\n",
       "<table border=\"1\" class=\"dataframe\">\n",
       "  <thead>\n",
       "    <tr style=\"text-align: right;\">\n",
       "      <th></th>\n",
       "      <th>Text</th>\n",
       "      <th>language</th>\n",
       "    </tr>\n",
       "  </thead>\n",
       "  <tbody>\n",
       "    <tr>\n",
       "      <th>0</th>\n",
       "      <td>klement gottwaldi surnukeha palsameeriti ning ...</td>\n",
       "      <td>Estonian</td>\n",
       "    </tr>\n",
       "    <tr>\n",
       "      <th>1</th>\n",
       "      <td>sebes joseph pereira thomas  på eng the jesuit...</td>\n",
       "      <td>Swedish</td>\n",
       "    </tr>\n",
       "    <tr>\n",
       "      <th>2</th>\n",
       "      <td>ถนนเจริญกรุง อักษรโรมัน thanon charoen krung เ...</td>\n",
       "      <td>Thai</td>\n",
       "    </tr>\n",
       "    <tr>\n",
       "      <th>3</th>\n",
       "      <td>விசாகப்பட்டினம் தமிழ்ச்சங்கத்தை இந்துப் பத்திர...</td>\n",
       "      <td>Tamil</td>\n",
       "    </tr>\n",
       "    <tr>\n",
       "      <th>4</th>\n",
       "      <td>de spons behoort tot het geslacht haliclona en...</td>\n",
       "      <td>Dutch</td>\n",
       "    </tr>\n",
       "    <tr>\n",
       "      <th>...</th>\n",
       "      <td>...</td>\n",
       "      <td>...</td>\n",
       "    </tr>\n",
       "    <tr>\n",
       "      <th>21995</th>\n",
       "      <td>hors du terrain les années  et  sont des année...</td>\n",
       "      <td>French</td>\n",
       "    </tr>\n",
       "    <tr>\n",
       "      <th>21996</th>\n",
       "      <td>ใน พศ  หลักจากที่เสด็จประพาสแหลมมลายู ชวา อินเ...</td>\n",
       "      <td>Thai</td>\n",
       "    </tr>\n",
       "    <tr>\n",
       "      <th>21997</th>\n",
       "      <td>con motivo de la celebración del septuagésimoq...</td>\n",
       "      <td>Spanish</td>\n",
       "    </tr>\n",
       "    <tr>\n",
       "      <th>21998</th>\n",
       "      <td>年月，當時還只有歲的她在美國出道，以mai-k名義推出首張英文《baby i like》，由...</td>\n",
       "      <td>Chinese</td>\n",
       "    </tr>\n",
       "    <tr>\n",
       "      <th>21999</th>\n",
       "      <td>aprilie sonda spațială messenger a nasa și-a ...</td>\n",
       "      <td>Romanian</td>\n",
       "    </tr>\n",
       "  </tbody>\n",
       "</table>\n",
       "<p>22000 rows × 2 columns</p>\n",
       "</div>"
      ],
      "text/plain": [
       "                                                    Text  language\n",
       "0      klement gottwaldi surnukeha palsameeriti ning ...  Estonian\n",
       "1      sebes joseph pereira thomas  på eng the jesuit...   Swedish\n",
       "2      ถนนเจริญกรุง อักษรโรมัน thanon charoen krung เ...      Thai\n",
       "3      விசாகப்பட்டினம் தமிழ்ச்சங்கத்தை இந்துப் பத்திர...     Tamil\n",
       "4      de spons behoort tot het geslacht haliclona en...     Dutch\n",
       "...                                                  ...       ...\n",
       "21995  hors du terrain les années  et  sont des année...    French\n",
       "21996  ใน พศ  หลักจากที่เสด็จประพาสแหลมมลายู ชวา อินเ...      Thai\n",
       "21997  con motivo de la celebración del septuagésimoq...   Spanish\n",
       "21998  年月，當時還只有歲的她在美國出道，以mai-k名義推出首張英文《baby i like》，由...   Chinese\n",
       "21999   aprilie sonda spațială messenger a nasa și-a ...  Romanian\n",
       "\n",
       "[22000 rows x 2 columns]"
      ]
     },
     "execution_count": 3,
     "metadata": {},
     "output_type": "execute_result"
    }
   ],
   "source": [
    "data"
   ]
  },
  {
   "cell_type": "code",
   "execution_count": 4,
   "id": "042785f4",
   "metadata": {},
   "outputs": [
    {
     "data": {
      "text/plain": [
       "np.int64(141)"
      ]
     },
     "execution_count": 4,
     "metadata": {},
     "output_type": "execute_result"
    }
   ],
   "source": [
    "data.duplicated().sum()"
   ]
  },
  {
   "cell_type": "code",
   "execution_count": 5,
   "id": "8c0e4836",
   "metadata": {},
   "outputs": [
    {
     "data": {
      "application/vnd.microsoft.datawrangler.viewer.v0+json": {
       "columns": [
        {
         "name": "index",
         "rawType": "int64",
         "type": "integer"
        },
        {
         "name": "Text",
         "rawType": "object",
         "type": "string"
        },
        {
         "name": "language",
         "rawType": "object",
         "type": "string"
        }
       ],
       "ref": "f3980069-6a2e-473f-a861-8f8f45d87e73",
       "rows": [
        [
         "0",
         "klement gottwaldi surnukeha palsameeriti ning paigutati mausoleumi surnukeha oli aga liiga hilja ja oskamatult palsameeritud ning hakkas ilmutama lagunemise tundemärke  aastal viidi ta surnukeha mausoleumist ära ja kremeeriti zlíni linn kandis aastatel – nime gottwaldov ukrainas harkivi oblastis kandis zmiivi linn aastatel – nime gotvald",
         "Estonian"
        ],
        [
         "1",
         "sebes joseph pereira thomas  på eng the jesuits and the sino-russian treaty of nerchinsk  the diary of thomas pereira bibliotheca instituti historici s i --   rome libris ",
         "Swedish"
        ],
        [
         "2",
         "ถนนเจริญกรุง อักษรโรมัน thanon charoen krung เริ่มตั้งแต่ถนนสนามไชยถึงแม่น้ำเจ้าพระยาที่ถนนตก กรุงเทพมหานคร เป็นถนนรุ่นแรกที่ใช้เทคนิคการสร้างแบบตะวันตก ปัจจุบันผ่านพื้นที่เขตพระนคร เขตป้อมปราบศัตรูพ่าย เขตสัมพันธวงศ์ เขตบางรัก เขตสาทร และเขตบางคอแหลม",
         "Thai"
        ],
        [
         "3",
         "விசாகப்பட்டினம் தமிழ்ச்சங்கத்தை இந்துப் பத்திரிகை-விசாகப்பட்டின ஆசிரியர் சம்பத்துடன் இணைந்து விரிவுபடுத்தினார்  ஆண்டுகள் தொடர்ந்து செயலராக இருந்து தமிழ்மன்றத்தை நடத்திச் சென்றார்  கோவை செம்மொழி மாநாட்டில் \"தமிழ்ச்சங்கங்களும் தமிழும்\" எனும் தலைப்பில் பிற மாநிலங்களில் தமிழ்வளர்ச்சி பற்றி கட்டுரை வாசித்தார்",
         "Tamil"
        ],
        [
         "4",
         "de spons behoort tot het geslacht haliclona en behoort tot de familie chalinidae de wetenschappelijke naam van de soort werd voor het eerst geldig gepubliceerd in  door kudelin",
         "Dutch"
        ],
        [
         "5",
         "エノが行きがかりでバスに乗ってしまい、気分が悪くなった際に助けるが、今すぐバスを降りたいと運転手に頼む際、本当のことを言ってしまうと彼女が恥ずかしい思いをすると察して「僕ウンコしたいんです」と言ってバスを降りた。エノは内心「私もしたいみたいじゃないの」と思うも、別れ際にエノの髪を「ふわふわのお菓子みたい」と言い、この台詞に憧れていたエノに強い衝撃を与えた。この話を聞いたリコは、以後彼のことを『ウンコ王子』または『ウンコ』というあだ名で呼ぶようになったが、エノは普通に「戸田くん」と呼んでいる。",
         "Japanese"
        ],
        [
         "6",
         "tsutinalar i̇ngilizce tsuutina kanadada alberta bölgesinde calgaryde yaşarlar tek başına grup oluştururlar ve pasifik ve güney atabaskları ile antik yakınlıklar göstermiştir",
         "Turkish"
        ],
        [
         "7",
         "müller mox figura centralis circulorum doctorum vindobonesium fiebat quibus intererant petrus altenberg albertus ehrenstein egon friedell anscharius kokoschka adolphus loos egon schiele et alii",
         "Latin"
        ],
        [
         "8",
         "برقی بار electric charge تمام زیرجوہری ذرات کی ا یک بنیادی محفوظہ conserved خصوصیت ہے جو انکے برقناطیسی تفاعلات کا تعین کرتی ہے۔ اس بات یوں بھی کہ سکتے ہیں کہ برقی بار کا حامل ذرہ یا مادہ  ایک برقناطیسی میدان کی وجہ سے متاثر ہوتا ہے یا اسکے زیر اثر ہوتا ہے جبکہ خود اسی کی وجہ سے برقناطیسی میدان پیدا بھی ہوتا ہے۔ برقناطیسی میدان اور اس میں حرکت کرتے ہوئے ایک بار دار ذرے کے آپس میں تفاعل interaction سے ایک قسم کی قوت یا توانائی نمودار ہوتی ہے جس کو برقناطیسی قوت کہا جاتا ہے۔ اور یہ برقناطیسی قوت  دراصل اس کائنات میں پائی جانے والی چار بنیادی قوتوں میں سے ایک ہے۔",
         "Urdu"
        ],
        [
         "9",
         "シャーリー・フィールドは、サン・ベルナルド・アベニュー沿い市民センターとrtマーティン高校に隣接してある。年にマーティン高校と共に建設された。ラレド独立学区のアウトドア・アスレチックがあり、毎年ボーダー・オリンピックが開催される。通常席だが、エンドゾーンに追加席を加えることで席まで拡大できる。メキシコのプロ・サッカークラブがここで様々な練習試合を行い、天然芝が「良い」サッカー試合を作るとしている。フットボール、サッカーおよび陸上競技が行われる。この歴史ある競技場に大きな改修工事が計画されている。",
         "Japanese"
        ],
        [
         "10",
         "kemunculan pertamanya adalah ketika mencium kakak kelasnya kyoko sejak yuuki meminta agar sakura merahasiakan hal tersebutlah keduanya menjadi akrab yuuki pun akhirnya menyukai sakura sayangnya tidak disadari oleh sakura dan hanya aiko yang tahu karena takut dibenci sakura yuuki akhirnya menganggap sakura \"sahabat spesial\"",
         "Indonesian"
        ],
        [
         "11",
         "barocco pt escândalo de ª página é um filme francês dirigido por andré téchiné estreado em  e protagonizado por gérard depardieu e isabelle adjani",
         "Portugese"
        ],
        [
         "12",
         "association de recherche et de sauvegarde de lhistoire de roissy-en-france arshrf roissy-en-france    mémoire dun siècle  voir dans la bibliographie",
         "French"
        ],
        [
         "13",
         "胡赛尼本人和小说的主人公阿米尔一样，都是出生在阿富汗首都喀布尔，少年时代便离开了这个国家。胡赛尼直到年小说出版之后才首次回到已经离开年的祖国。他在苏联入侵时离开了阿富汗，而他的很多童年好友在阿富汗生活艰难，还有一些表亲离开人世，其中一位在童年时代和他一起放风筝的表兄弟就是在逃离阿富汗时死在了油罐车中（这一情节在《追风筝的人》中也有描写），而这位表兄弟的父亲也被人枪杀；因此胡赛尼总是怀有幸存者所特有的一种内疚心态，这种情感在小说中也有体现。很多人因此认为这部小说有些自传色彩。胡赛尼则表示小说中确实有一部分内容是根据自己的经历创作的，他和故事主人公也有很多相似点，但是一些内容被他刻意地模糊处理了。尽管和主人公的经历有诸多的相似点，胡赛尼仍然坚称小说情节确实是虚构的。之后胡赛尼在创作他的第二部小说《灿烂千阳》时把主人公设定为女性，称“这样应该就能一劳永逸地解决人们关于‘自传’的问题了”。",
         "Chinese"
        ],
        [
         "14",
         "한국에서 성씨가 사용되기 시작한 정확한 시기는 알 수 없으나 한자漢字 등 중국 문물이 수입되었던 시기에 그와 함께 도입되었을 것으로 추정된다 씨족 사회와 그 집단을 통치하는 지배자 계급이 발생함으로써 성씨는 다른 씨족이나 피지배 계급과 구별하기 위한 목적 즉 정치적 신분을 나타내는 표지로 쓰이게 되었다",
         "Korean"
        ],
        [
         "15",
         "การฟาดฟันของบรรดาสาวงามในกองประกวด miss beauty and talent thailand ว่าร้อนแรงแล้ว การแข่งขัน ระหว่างเวทีก็ดุเดือดไม่แพ้กัน เมื่อ คุณไก่ อรนภา กฤษฎี เจ้าของเวที miss elegant thailand เวทีประกวดสาวงามคู่แข่ง คิดจะทำลายเวที miss beauty and talent thailand เพื่อที่ว่าเวทีประกวดของตนเองจะขึ้นเป็นอันดับหนึ่งแทนที่ จึงได้ใช้ให้ อลิส ราศี วัชราพลเมฆ ผู้ช่วยของนัสรินคอยเป็นคนสร้างข่าวฉาวทำลายเวทีจากภายใน โลกของผู้หญิงสวยและการฟาดฟันเชือดเฉือน โลกของเวทีขาอ่อนที่ซ่อนเขี้ยวเล็บไว้ ใครจะอยู่ใครจะไป",
         "Thai"
        ],
        [
         "16",
         "dorota rabczewska artistinimega doda sündinud  veebruaril  on kuulus poola rokk- ja poplaulja ta on kõige rohkem auhindu võitnud laulja poolas doda on tuntuks laulnud sellised hitid nagu \"szansa\" \"katharsis\" ja \"nie daj się\"",
         "Estonian"
        ],
        [
         "17",
         "diante destes gerenciamentos podendo ser feitos pela própria empresa mais comum em média e grandes empresas ou até mesmo por empresas terceiras especializadas em monitoramento de redes noc é notável o ganho de agilidade e eficiência em prol dos objetivos da empresa",
         "Portugese"
        ],
        [
         "18",
         "besemer s van der geest v murray j bijleveld c c j h and farrington d p  the relationship between parental imprisonment and offspring offending in england and the netherlands british journal of criminology  -",
         "Portugese"
        ],
        [
         "19",
         "महाराष्ट्र  मई  को भारत का राज्य बनाया गया था। इस दिन को हम महाराष्ट्र दिन के भी नाम से जानते है। शुरू में महाराष्ट्र में  जिले थे। उसके बाद  नये जिले बनाएँ गये है। वर्तमान के महाराष्ट्र में  जिले है। इन जिलों को छह प्रशासनिक विभागों में विभाजित किया गया है।",
         "Hindi"
        ],
        [
         "20",
         "ஆங்கில எழுத்துக்களை மட்டும் அல்லாமல் பன்மொழி எழுத்துக்களையும் பயன்படுத்தக்கூடியவாறு சீரான வள அடையாளங்காட்டி முறைமை அனைத்துலக வள அடையாளங்காட்டி முறை ஊடாக நீட்டப்பட்டுள்ளது",
         "Tamil"
        ],
        [
         "21",
         "en navidad de  poco después de que interpretó la canción en francés película papillon toi qui regarde la mer ella cantará la espléndida versión de gloria aleluya para una misa de medianoche celebrada por rtl",
         "Spanish"
        ],
        [
         "22",
         "la chirurgie comprenant principalement lablation de la tumeur la néphrectomie élargie comprenant le plus souvent la surrénale et les ganglions situés à proximité",
         "French"
        ],
        [
         "23",
         "dès les années  les communes voisines darnouville goussainville et dans une moindre mesure louvres desservies par la ligne ferroviaire paris-lille connurent une expansion démographique spectaculaire avec la création de nombreux lotissements de banlieue roissy demeurée à lécart du chemin de fer et de lindustrialisation restait un village agricole et sappauvrit progressivement le nombre de commerces passa de quatre-vingt-quatre en  à seulement dix-huit en  le même phénomène se produisit dans de nombreux autres villages du pays de france non desservis par une voie ferrée",
         "French"
        ],
        [
         "24",
         "merilai a maria-kristiina lotman toim  methis studia humaniora estonica  poeetika erinumber tartu tartu ülikooli kirjastus",
         "Estonian"
        ],
        [
         "25",
         "효모는 세포 수준의 생물학에서 모델 생물의 첫 번째 본보기로 간주해도 좋을 것이다 호흡 및 효소에 대한 생화학 분야는 여기에서 시작된다 이어 아카빤카비가 유전학 연구에서 이용되면서 유명해졌다 그 이후에도 기초 생물학의 여러 분야는 미생물을 모델로 사용하여 왔으나 오히려 균류보다 더 작고 단순한 미생물이다 박테리아류나 바이러스가 분자 생물학이나 유전학의 모델로 사용되는 것이 많아졌다 그러나 이러한 생물은 원핵 세포이며 우리와 같은 진핵 세포가 아니므로 가장 다루기 쉬운 진핵 생물로 균류가 사용되는 예는 많다 자주 사용되는 것은 신진 효모 saccharomyces cerevisiae와 분열 효모 schizosaccharomyces pombe이다",
         "Korean"
        ],
        [
         "26",
         "au er avril  les services asama sont actuellement effectués par des shinkansen série e et w de  à  ils étaient également effectués par des shinkansen série e",
         "French"
        ],
        [
         "27",
         "لویي په کالونیو کې د ظلم کولو خلاف وو او له خلکو سره ېې خاص همدردي لرله د هر ډول غلامي انعطاف ناپذیره دشمن وو د خلکو د رفاه لپاره ېې ډېرې هلې ځلې کولې ډېره هڅه ېې دا وه چې په افریقا کې د ځایي خلکو ټولنه جوړه کړي کله ېې چې تولنه جوړه کړه د دوي مشرانو باندې ېې د فرانسې د گټو ساتنه زدکړه او حتی داسې یو بنسټ ېې کېښود چې د دوي بچي چې وروسته به قدرت ته رسېږي د فرانسې گټو ته وفاداره پاتې کېږي لویي کوښښ وکړ چې سېنېگال داسې یوه بنسټیزه زاویه کړي له کوم ځای چې ټولې فرانسوی کالونی یا مستعمرې کنټرول کېدای شي",
         "Pushto"
        ],
        [
         "28",
         "de prinses was als erfgename van polen een goede partij voor de boheemse koning wenceslaus ii in  werd ze naar bohemen gebracht en werd er opgevoed door de tante van wenceslaus ii in  huwde de toen -jarige richezza met de -jarige wenceslaus ii die naast koning van bohemen in  ook koning van polen was geworden vervolgens werd richezza door hendrik van würben de bisschop van breslau tot koningin-gemalin van bohemen gekroond en nam ze voortaan de naam elisabeth aan in  baarde richezza een dochter agnes de verwachte zoon die de poolse kroon zou erven kwam er niet meer omdat wenceslaus ii in juni  stierf hierdoor werd richezza op slechts -jarige leeftijd al weduwe",
         "Dutch"
        ],
        [
         "29",
         "آهن ترکیباتی را ایجاد می‌کند که عمدتاً در حالت‌های اکسیداسیون  و  هستند به‌طور سنتی ترکیبات آهن ii فروس نامیده می‌شوند و ترکیبات آهن iii فریک نامیده می‌شود ترکیبات زیادی در هر یک از حالات اکسیداسیون وجود دارد که مثال‌هایی از آن شامل سولفات آهن ii feso و کلرید آهن iii fecl می‌باشد",
         "Persian"
        ],
        [
         "30",
         "lalimentation industrielle convient parfaitement à la croissance du chiot et à ladulte lalimentation ménagère nécessite un supplément en vitamines et en calcium",
         "French"
        ],
        [
         "31",
         "de-a lungul vieții watson a fost interesat de relațiile internaționale atât din perspectivă diplomatică cât și din perspectivă economică era cunoscut drept emisar neoficial al lui franklin d roosevelt în new york și primea frecvent vizita unor demnitari străini în  a fost ales președinte al camerei internaționale de comerț icc și la congresul bienal desfășurat la berlin a afirmat că mottoul conferinței este pace mondială prin comerț mondial aceste cuvinte au devenit sloganul icc și ibm",
         "Romanian"
        ],
        [
         "32",
         "занимает пятое место в диптихе автокефальных поместных церквей мира крупнейшая религиозная организация в россии на украине на  год по числу приходов духовенства и культовых сооружений но по некоторым опросам на начало  года не по количеству верующих в белоруссии молдавии включая приднестровье",
         "Russian"
        ],
        [
         "33",
         "藤女の女性教師。歳。数学担当。風紀指導を担当しており、リコにとっては天敵。藤女とその伝統に強い誇りを抱いており、サヨの彼氏バレの際には厳しい態度を取る。その一方で体育祭の時に天ヶ崎が仕込んだ悪ふざけを承知の上で見逃したり、生徒会執行部が何事か画策しているのを悟りながらある一線を越えない限り黙認するなど、単なる堅物ではない一面ものぞかせる。体育祭の応援合戦でマキマキオから白いバラを受け取った際には、顔を真っ赤にしていた。",
         "Japanese"
        ],
        [
         "34",
         "walter kaudern dalam bukunya menyatakan wawo lage dianggap sebagai desa asal mereka desa ini sendiri terletak pada wilayah khusus di sungai sinaolea tepat di wilayah sungai yang menikung tajam dari selatan ke barat di desa ini to lage yang sering berperang dengan suku tetangga mereka telah berkembang menjadi suku yang relatif kuat dan berkuasa pada akhir abad ke- ketika posisi belanda di sulawesi menjadi semakin berpengaruh to lage tinggal di sejumlah desa yang kuat",
         "Indonesian"
        ],
        [
         "35",
         "imprimat psalterium quzhayae librum primum imprimatus in libano psalterium est liber psalmorum in lingua arabica cum litteras aramicas garshuni",
         "Latin"
        ],
        [
         "36",
         "media [sc via] sive mese graece ἡ μέση [sc ὁδός] erat urbis constantinopolis via principalis quae palatium imperiale et portam auream inter se conectit a quo loco incepit via egnatia",
         "Latin"
        ],
        [
         "37",
         "in  johnson was awarded an american institute of architects gold medal in  he became the first recipient of the pritzker architecture prize the most prestigious international architectural award",
         "English"
        ],
        [
         "38",
         "attirant dans ses clubs les meilleurs joueurs des deux hémisphères monnayant des droits de diffusion tv avantageux populaire auprès du public qui garnit les stades le top  est aujourdhui considéré comme le championnat national de rugby le plus riche au monde",
         "French"
        ],
        [
         "39",
         "poço de jacó está localizado a  metros de tell balata na parte oriental da cidade de nablus dentro do recinto do mosteiro de bir yaqub o poço é localizado na entrada da igreja nos terrenos do mosteiro e descendo as escadas até a cripta onde o poço é conservado junto com \"um pequeno guincho um balde ícones de ex-votos e muitas velas acesas\" a tumba de josé está localizado ao norte do poço de jacó em um prédio da era otomana marcado por uma cúpula branca",
         "Portugese"
        ],
        [
         "40",
         "bussy-saint-georges has built its identity on a green model environment with parks and gardens they represent  hectares of integrated green spaces  kilometres  miles of soft connecting links  squares and parks in the city centre  pools and more than  trees today",
         "English"
        ],
        [
         "41",
         "زلاتان ابراھیموویچ zlatan ibrahimović سویڈش تلفظ [ˈslaːtan ɪbraˈhiːmovɪtʂ] بوسنیائی تلفظ [ˈzlatan ibraˈxiːmɔʋitɕ] ایک سویڈش پیشہ ورانہ فوٹبالر ہے جو بطور اسٹرائیکر لیگ  کلب پیرس سینٹ جرمین ligue  club paris saint-germain اور سویڈش قومی ٹیم میں بھی بطور کپتان کھیلتا ہے۔",
         "Urdu"
        ],
        [
         "42",
         "lock helen  \"a mans story is his gris-gris\" ishmael reeds neo-hoodoo aesthetic and the african-american tradition south central review  – jstor ",
         "Latin"
        ],
        [
         "43",
         "bintang ini memiliki nama tradisional sulafat sulaphat berasal dari bahasa arab السلحفاة al-sulḥafāt yang berarti \"kura-kura\" nama alternatif adalah jugum berasal dari bahasa latin iugum berarti \"penyeimbang\" nama lainnya untuk bintang ini adalah ",
         "Indonesian"
        ],
        [
         "44",
         "dalam bahasa inggris istilah easter paskah menurut bede berasal dari bahasa saxon yaitu kata ēastre atau ēostre pengucapan inggris lama [ˈæːɑstre ˈeːostre] yang masih berhubungan dengan estre seorang dewi bangsa teutonik dewi cahaya fajar dan musim semi yang perayaannya berdekatan dengan perayaan paskah yang sudah tidak dikenal lagi pada zaman bede bahkan di \"edda\" bahasa anglo-saxon termasuk inggris eâster eâstron jerman kuno ôstra ôstrara ôstrarûn jerman ostern april disebut easter-monadh bentuk plural eâstron digunakan karena perayaannya berlangsung selama tujuh hari seperti bentuk plural dalam bahasa perancis pâques istilah tersebut diterjemahkan dari bahasa latin festa paschalia seluruh oktaf paskah",
         "Indonesian"
        ],
        [
         "45",
         "教会旋法はまず終止音（finalis）によってつに分類される。そしてそれぞれが音域（ambitus）によって終止音から高くまで上がる正格（authenticus）とあまり上がらない変格（plagalis）のつに分けられる。 例えば、ドリア旋法はニ音を終止音とする正格旋法であり、ヒポドリア旋法はその変格旋法である。",
         "Japanese"
        ],
        [
         "46",
         "قبل عام بالضبط وبتاريخ  أعلن البغدادي خطة هدم الأسوار وبتاريخ  هاجمت داعش سجنين في بغداد هما سجن التاجي وسجن بغداد المركزي ونجحت في تهريب أكثر من  معتقل ",
         "Arabic"
        ],
        [
         "47",
         "ـــ په  رجب  هـ ق كال دوانت وايگل ولسوالي دجمچگل په سيمه كې داشغالگرو عسكرو خورا ستر بيس چې دوئ ته يې خورا ستراتيژيك اهميت درلود دمجاهدينو دمسلسلو بريدونو له امله تخليه كړ او گڼ شمیر غنيمتونه دمجاهدينو لاس ته ورغلل ",
         "Pushto"
        ],
        [
         "48",
         "ia menikahi giacomina wafat  februari  putri ugolino della gherardesca pada tahun  atas anjuran ayahnya meskipun ia telah memiliki keturunan hasil hubungannya dengan vera cappai di villasalto ia digantikan oleh putranya andrew dan marianus ia meninggalkan seorang putri yang sah joanna yang wafat pada tahun ",
         "Indonesian"
        ],
        [
         "49",
         "theokritos herdediktning har tjänat som förebild för den romerska exempelvis vergilius liksom för senrenässansens och rokokons herdeidyller",
         "Swedish"
        ]
       ],
       "shape": {
        "columns": 2,
        "rows": 21859
       }
      },
      "text/html": [
       "<div>\n",
       "<style scoped>\n",
       "    .dataframe tbody tr th:only-of-type {\n",
       "        vertical-align: middle;\n",
       "    }\n",
       "\n",
       "    .dataframe tbody tr th {\n",
       "        vertical-align: top;\n",
       "    }\n",
       "\n",
       "    .dataframe thead th {\n",
       "        text-align: right;\n",
       "    }\n",
       "</style>\n",
       "<table border=\"1\" class=\"dataframe\">\n",
       "  <thead>\n",
       "    <tr style=\"text-align: right;\">\n",
       "      <th></th>\n",
       "      <th>Text</th>\n",
       "      <th>language</th>\n",
       "    </tr>\n",
       "  </thead>\n",
       "  <tbody>\n",
       "    <tr>\n",
       "      <th>0</th>\n",
       "      <td>klement gottwaldi surnukeha palsameeriti ning ...</td>\n",
       "      <td>Estonian</td>\n",
       "    </tr>\n",
       "    <tr>\n",
       "      <th>1</th>\n",
       "      <td>sebes joseph pereira thomas  på eng the jesuit...</td>\n",
       "      <td>Swedish</td>\n",
       "    </tr>\n",
       "    <tr>\n",
       "      <th>2</th>\n",
       "      <td>ถนนเจริญกรุง อักษรโรมัน thanon charoen krung เ...</td>\n",
       "      <td>Thai</td>\n",
       "    </tr>\n",
       "    <tr>\n",
       "      <th>3</th>\n",
       "      <td>விசாகப்பட்டினம் தமிழ்ச்சங்கத்தை இந்துப் பத்திர...</td>\n",
       "      <td>Tamil</td>\n",
       "    </tr>\n",
       "    <tr>\n",
       "      <th>4</th>\n",
       "      <td>de spons behoort tot het geslacht haliclona en...</td>\n",
       "      <td>Dutch</td>\n",
       "    </tr>\n",
       "    <tr>\n",
       "      <th>...</th>\n",
       "      <td>...</td>\n",
       "      <td>...</td>\n",
       "    </tr>\n",
       "    <tr>\n",
       "      <th>21995</th>\n",
       "      <td>hors du terrain les années  et  sont des année...</td>\n",
       "      <td>French</td>\n",
       "    </tr>\n",
       "    <tr>\n",
       "      <th>21996</th>\n",
       "      <td>ใน พศ  หลักจากที่เสด็จประพาสแหลมมลายู ชวา อินเ...</td>\n",
       "      <td>Thai</td>\n",
       "    </tr>\n",
       "    <tr>\n",
       "      <th>21997</th>\n",
       "      <td>con motivo de la celebración del septuagésimoq...</td>\n",
       "      <td>Spanish</td>\n",
       "    </tr>\n",
       "    <tr>\n",
       "      <th>21998</th>\n",
       "      <td>年月，當時還只有歲的她在美國出道，以mai-k名義推出首張英文《baby i like》，由...</td>\n",
       "      <td>Chinese</td>\n",
       "    </tr>\n",
       "    <tr>\n",
       "      <th>21999</th>\n",
       "      <td>aprilie sonda spațială messenger a nasa și-a ...</td>\n",
       "      <td>Romanian</td>\n",
       "    </tr>\n",
       "  </tbody>\n",
       "</table>\n",
       "<p>21859 rows × 2 columns</p>\n",
       "</div>"
      ],
      "text/plain": [
       "                                                    Text  language\n",
       "0      klement gottwaldi surnukeha palsameeriti ning ...  Estonian\n",
       "1      sebes joseph pereira thomas  på eng the jesuit...   Swedish\n",
       "2      ถนนเจริญกรุง อักษรโรมัน thanon charoen krung เ...      Thai\n",
       "3      விசாகப்பட்டினம் தமிழ்ச்சங்கத்தை இந்துப் பத்திர...     Tamil\n",
       "4      de spons behoort tot het geslacht haliclona en...     Dutch\n",
       "...                                                  ...       ...\n",
       "21995  hors du terrain les années  et  sont des année...    French\n",
       "21996  ใน พศ  หลักจากที่เสด็จประพาสแหลมมลายู ชวา อินเ...      Thai\n",
       "21997  con motivo de la celebración del septuagésimoq...   Spanish\n",
       "21998  年月，當時還只有歲的她在美國出道，以mai-k名義推出首張英文《baby i like》，由...   Chinese\n",
       "21999   aprilie sonda spațială messenger a nasa și-a ...  Romanian\n",
       "\n",
       "[21859 rows x 2 columns]"
      ]
     },
     "execution_count": 5,
     "metadata": {},
     "output_type": "execute_result"
    }
   ],
   "source": [
    "data.drop_duplicates()"
   ]
  },
  {
   "cell_type": "code",
   "execution_count": 6,
   "id": "dbb33103",
   "metadata": {},
   "outputs": [
    {
     "data": {
      "application/vnd.microsoft.datawrangler.viewer.v0+json": {
       "columns": [
        {
         "name": "index",
         "rawType": "object",
         "type": "string"
        },
        {
         "name": "0",
         "rawType": "int64",
         "type": "integer"
        }
       ],
       "ref": "3f5f1c73-e9c5-40c1-bb4f-c37cc578d759",
       "rows": [
        [
         "Text",
         "0"
        ],
        [
         "language",
         "0"
        ]
       ],
       "shape": {
        "columns": 1,
        "rows": 2
       }
      },
      "text/plain": [
       "Text        0\n",
       "language    0\n",
       "dtype: int64"
      ]
     },
     "execution_count": 6,
     "metadata": {},
     "output_type": "execute_result"
    }
   ],
   "source": [
    "data.isnull().sum()"
   ]
  },
  {
   "cell_type": "code",
   "execution_count": 7,
   "id": "bb44cbdc",
   "metadata": {},
   "outputs": [],
   "source": [
    "from sklearn.feature_extraction.text import CountVectorizer"
   ]
  },
  {
   "cell_type": "code",
   "execution_count": 8,
   "id": "fa7435c8",
   "metadata": {},
   "outputs": [],
   "source": [
    "# vectorizer= CountVectorizer()\n",
    "# data=[' Love data science,','Love machine learning']\n",
    "# vectorizer_data =vectorizer.fit_transform(data)\n",
    "# print(vectorizer.get_feature_names_out())\n",
    "# print(vectorizer_data.toarray())\n"
   ]
  },
  {
   "cell_type": "code",
   "execution_count": 9,
   "id": "19110f7b",
   "metadata": {},
   "outputs": [],
   "source": [
    "from sklearn.model_selection import train_test_split"
   ]
  },
  {
   "cell_type": "code",
   "execution_count": 10,
   "id": "c183cba5",
   "metadata": {},
   "outputs": [],
   "source": [
    "from sklearn.naive_bayes import MultinomialNB"
   ]
  },
  {
   "cell_type": "code",
   "execution_count": 11,
   "id": "7f1add4e",
   "metadata": {},
   "outputs": [
    {
     "data": {
      "application/vnd.microsoft.datawrangler.viewer.v0+json": {
       "columns": [
        {
         "name": "language",
         "rawType": "object",
         "type": "string"
        },
        {
         "name": "count",
         "rawType": "int64",
         "type": "integer"
        }
       ],
       "ref": "a5401777-f76b-49e8-a0f2-ed935be0eb1d",
       "rows": [
        [
         "Estonian",
         "1000"
        ],
        [
         "Swedish",
         "1000"
        ],
        [
         "Thai",
         "1000"
        ],
        [
         "Tamil",
         "1000"
        ],
        [
         "Dutch",
         "1000"
        ],
        [
         "Japanese",
         "1000"
        ],
        [
         "Turkish",
         "1000"
        ],
        [
         "Latin",
         "1000"
        ],
        [
         "Urdu",
         "1000"
        ],
        [
         "Indonesian",
         "1000"
        ],
        [
         "Portugese",
         "1000"
        ],
        [
         "French",
         "1000"
        ],
        [
         "Chinese",
         "1000"
        ],
        [
         "Korean",
         "1000"
        ],
        [
         "Hindi",
         "1000"
        ],
        [
         "Spanish",
         "1000"
        ],
        [
         "Pushto",
         "1000"
        ],
        [
         "Persian",
         "1000"
        ],
        [
         "Romanian",
         "1000"
        ],
        [
         "Russian",
         "1000"
        ],
        [
         "English",
         "1000"
        ],
        [
         "Arabic",
         "1000"
        ]
       ],
       "shape": {
        "columns": 1,
        "rows": 22
       }
      },
      "text/plain": [
       "language\n",
       "Estonian      1000\n",
       "Swedish       1000\n",
       "Thai          1000\n",
       "Tamil         1000\n",
       "Dutch         1000\n",
       "Japanese      1000\n",
       "Turkish       1000\n",
       "Latin         1000\n",
       "Urdu          1000\n",
       "Indonesian    1000\n",
       "Portugese     1000\n",
       "French        1000\n",
       "Chinese       1000\n",
       "Korean        1000\n",
       "Hindi         1000\n",
       "Spanish       1000\n",
       "Pushto        1000\n",
       "Persian       1000\n",
       "Romanian      1000\n",
       "Russian       1000\n",
       "English       1000\n",
       "Arabic        1000\n",
       "Name: count, dtype: int64"
      ]
     },
     "execution_count": 11,
     "metadata": {},
     "output_type": "execute_result"
    }
   ],
   "source": [
    "data['language'].value_counts()"
   ]
  },
  {
   "cell_type": "code",
   "execution_count": 12,
   "id": "3e4f41d9",
   "metadata": {},
   "outputs": [
    {
     "data": {
      "application/vnd.microsoft.datawrangler.viewer.v0+json": {
       "columns": [
        {
         "name": "index",
         "rawType": "object",
         "type": "string"
        },
        {
         "name": "0",
         "rawType": "object",
         "type": "unknown"
        }
       ],
       "ref": "819dade6-3be0-4fa1-b24e-79d77159e798",
       "rows": [
        [
         "Text",
         "object"
        ],
        [
         "language",
         "object"
        ]
       ],
       "shape": {
        "columns": 1,
        "rows": 2
       }
      },
      "text/plain": [
       "Text        object\n",
       "language    object\n",
       "dtype: object"
      ]
     },
     "execution_count": 12,
     "metadata": {},
     "output_type": "execute_result"
    }
   ],
   "source": [
    "data.dtypes"
   ]
  },
  {
   "cell_type": "code",
   "execution_count": 13,
   "id": "d0b14fa7",
   "metadata": {},
   "outputs": [],
   "source": [
    "x=np.array(data['Text'])\n",
    "y=np.array(data['language'])"
   ]
  },
  {
   "cell_type": "code",
   "execution_count": 14,
   "id": "632b82c5",
   "metadata": {},
   "outputs": [
    {
     "name": "stdout",
     "output_type": "stream",
     "text": [
      "['Estonian' 'Swedish' 'Thai' ... 'Spanish' 'Chinese' 'Romanian']\n"
     ]
    }
   ],
   "source": [
    "print(y)"
   ]
  },
  {
   "cell_type": "code",
   "execution_count": 15,
   "id": "8fd245bd",
   "metadata": {},
   "outputs": [],
   "source": [
    "cv=CountVectorizer()\n",
    "x=cv.fit_transform(x)"
   ]
  },
  {
   "cell_type": "code",
   "execution_count": 32,
   "id": "765981c4",
   "metadata": {},
   "outputs": [],
   "source": [
    "x_train,x_test,y_train,y_test=train_test_split(x,y,test_size=0.2,random_state=42)\n"
   ]
  },
  {
   "cell_type": "code",
   "execution_count": null,
   "id": "6dc4c115",
   "metadata": {},
   "outputs": [],
   "source": []
  },
  {
   "cell_type": "code",
   "execution_count": 33,
   "id": "e136c5df",
   "metadata": {},
   "outputs": [],
   "source": [
    "model=MultinomialNB()"
   ]
  },
  {
   "cell_type": "code",
   "execution_count": 34,
   "id": "7af9f3bd",
   "metadata": {},
   "outputs": [
    {
     "data": {
      "text/html": [
       "<style>#sk-container-id-4 {\n",
       "  /* Definition of color scheme common for light and dark mode */\n",
       "  --sklearn-color-text: #000;\n",
       "  --sklearn-color-text-muted: #666;\n",
       "  --sklearn-color-line: gray;\n",
       "  /* Definition of color scheme for unfitted estimators */\n",
       "  --sklearn-color-unfitted-level-0: #fff5e6;\n",
       "  --sklearn-color-unfitted-level-1: #f6e4d2;\n",
       "  --sklearn-color-unfitted-level-2: #ffe0b3;\n",
       "  --sklearn-color-unfitted-level-3: chocolate;\n",
       "  /* Definition of color scheme for fitted estimators */\n",
       "  --sklearn-color-fitted-level-0: #f0f8ff;\n",
       "  --sklearn-color-fitted-level-1: #d4ebff;\n",
       "  --sklearn-color-fitted-level-2: #b3dbfd;\n",
       "  --sklearn-color-fitted-level-3: cornflowerblue;\n",
       "\n",
       "  /* Specific color for light theme */\n",
       "  --sklearn-color-text-on-default-background: var(--sg-text-color, var(--theme-code-foreground, var(--jp-content-font-color1, black)));\n",
       "  --sklearn-color-background: var(--sg-background-color, var(--theme-background, var(--jp-layout-color0, white)));\n",
       "  --sklearn-color-border-box: var(--sg-text-color, var(--theme-code-foreground, var(--jp-content-font-color1, black)));\n",
       "  --sklearn-color-icon: #696969;\n",
       "\n",
       "  @media (prefers-color-scheme: dark) {\n",
       "    /* Redefinition of color scheme for dark theme */\n",
       "    --sklearn-color-text-on-default-background: var(--sg-text-color, var(--theme-code-foreground, var(--jp-content-font-color1, white)));\n",
       "    --sklearn-color-background: var(--sg-background-color, var(--theme-background, var(--jp-layout-color0, #111)));\n",
       "    --sklearn-color-border-box: var(--sg-text-color, var(--theme-code-foreground, var(--jp-content-font-color1, white)));\n",
       "    --sklearn-color-icon: #878787;\n",
       "  }\n",
       "}\n",
       "\n",
       "#sk-container-id-4 {\n",
       "  color: var(--sklearn-color-text);\n",
       "}\n",
       "\n",
       "#sk-container-id-4 pre {\n",
       "  padding: 0;\n",
       "}\n",
       "\n",
       "#sk-container-id-4 input.sk-hidden--visually {\n",
       "  border: 0;\n",
       "  clip: rect(1px 1px 1px 1px);\n",
       "  clip: rect(1px, 1px, 1px, 1px);\n",
       "  height: 1px;\n",
       "  margin: -1px;\n",
       "  overflow: hidden;\n",
       "  padding: 0;\n",
       "  position: absolute;\n",
       "  width: 1px;\n",
       "}\n",
       "\n",
       "#sk-container-id-4 div.sk-dashed-wrapped {\n",
       "  border: 1px dashed var(--sklearn-color-line);\n",
       "  margin: 0 0.4em 0.5em 0.4em;\n",
       "  box-sizing: border-box;\n",
       "  padding-bottom: 0.4em;\n",
       "  background-color: var(--sklearn-color-background);\n",
       "}\n",
       "\n",
       "#sk-container-id-4 div.sk-container {\n",
       "  /* jupyter's `normalize.less` sets `[hidden] { display: none; }`\n",
       "     but bootstrap.min.css set `[hidden] { display: none !important; }`\n",
       "     so we also need the `!important` here to be able to override the\n",
       "     default hidden behavior on the sphinx rendered scikit-learn.org.\n",
       "     See: https://github.com/scikit-learn/scikit-learn/issues/21755 */\n",
       "  display: inline-block !important;\n",
       "  position: relative;\n",
       "}\n",
       "\n",
       "#sk-container-id-4 div.sk-text-repr-fallback {\n",
       "  display: none;\n",
       "}\n",
       "\n",
       "div.sk-parallel-item,\n",
       "div.sk-serial,\n",
       "div.sk-item {\n",
       "  /* draw centered vertical line to link estimators */\n",
       "  background-image: linear-gradient(var(--sklearn-color-text-on-default-background), var(--sklearn-color-text-on-default-background));\n",
       "  background-size: 2px 100%;\n",
       "  background-repeat: no-repeat;\n",
       "  background-position: center center;\n",
       "}\n",
       "\n",
       "/* Parallel-specific style estimator block */\n",
       "\n",
       "#sk-container-id-4 div.sk-parallel-item::after {\n",
       "  content: \"\";\n",
       "  width: 100%;\n",
       "  border-bottom: 2px solid var(--sklearn-color-text-on-default-background);\n",
       "  flex-grow: 1;\n",
       "}\n",
       "\n",
       "#sk-container-id-4 div.sk-parallel {\n",
       "  display: flex;\n",
       "  align-items: stretch;\n",
       "  justify-content: center;\n",
       "  background-color: var(--sklearn-color-background);\n",
       "  position: relative;\n",
       "}\n",
       "\n",
       "#sk-container-id-4 div.sk-parallel-item {\n",
       "  display: flex;\n",
       "  flex-direction: column;\n",
       "}\n",
       "\n",
       "#sk-container-id-4 div.sk-parallel-item:first-child::after {\n",
       "  align-self: flex-end;\n",
       "  width: 50%;\n",
       "}\n",
       "\n",
       "#sk-container-id-4 div.sk-parallel-item:last-child::after {\n",
       "  align-self: flex-start;\n",
       "  width: 50%;\n",
       "}\n",
       "\n",
       "#sk-container-id-4 div.sk-parallel-item:only-child::after {\n",
       "  width: 0;\n",
       "}\n",
       "\n",
       "/* Serial-specific style estimator block */\n",
       "\n",
       "#sk-container-id-4 div.sk-serial {\n",
       "  display: flex;\n",
       "  flex-direction: column;\n",
       "  align-items: center;\n",
       "  background-color: var(--sklearn-color-background);\n",
       "  padding-right: 1em;\n",
       "  padding-left: 1em;\n",
       "}\n",
       "\n",
       "\n",
       "/* Toggleable style: style used for estimator/Pipeline/ColumnTransformer box that is\n",
       "clickable and can be expanded/collapsed.\n",
       "- Pipeline and ColumnTransformer use this feature and define the default style\n",
       "- Estimators will overwrite some part of the style using the `sk-estimator` class\n",
       "*/\n",
       "\n",
       "/* Pipeline and ColumnTransformer style (default) */\n",
       "\n",
       "#sk-container-id-4 div.sk-toggleable {\n",
       "  /* Default theme specific background. It is overwritten whether we have a\n",
       "  specific estimator or a Pipeline/ColumnTransformer */\n",
       "  background-color: var(--sklearn-color-background);\n",
       "}\n",
       "\n",
       "/* Toggleable label */\n",
       "#sk-container-id-4 label.sk-toggleable__label {\n",
       "  cursor: pointer;\n",
       "  display: flex;\n",
       "  width: 100%;\n",
       "  margin-bottom: 0;\n",
       "  padding: 0.5em;\n",
       "  box-sizing: border-box;\n",
       "  text-align: center;\n",
       "  align-items: start;\n",
       "  justify-content: space-between;\n",
       "  gap: 0.5em;\n",
       "}\n",
       "\n",
       "#sk-container-id-4 label.sk-toggleable__label .caption {\n",
       "  font-size: 0.6rem;\n",
       "  font-weight: lighter;\n",
       "  color: var(--sklearn-color-text-muted);\n",
       "}\n",
       "\n",
       "#sk-container-id-4 label.sk-toggleable__label-arrow:before {\n",
       "  /* Arrow on the left of the label */\n",
       "  content: \"▸\";\n",
       "  float: left;\n",
       "  margin-right: 0.25em;\n",
       "  color: var(--sklearn-color-icon);\n",
       "}\n",
       "\n",
       "#sk-container-id-4 label.sk-toggleable__label-arrow:hover:before {\n",
       "  color: var(--sklearn-color-text);\n",
       "}\n",
       "\n",
       "/* Toggleable content - dropdown */\n",
       "\n",
       "#sk-container-id-4 div.sk-toggleable__content {\n",
       "  display: none;\n",
       "  text-align: left;\n",
       "  /* unfitted */\n",
       "  background-color: var(--sklearn-color-unfitted-level-0);\n",
       "}\n",
       "\n",
       "#sk-container-id-4 div.sk-toggleable__content.fitted {\n",
       "  /* fitted */\n",
       "  background-color: var(--sklearn-color-fitted-level-0);\n",
       "}\n",
       "\n",
       "#sk-container-id-4 div.sk-toggleable__content pre {\n",
       "  margin: 0.2em;\n",
       "  border-radius: 0.25em;\n",
       "  color: var(--sklearn-color-text);\n",
       "  /* unfitted */\n",
       "  background-color: var(--sklearn-color-unfitted-level-0);\n",
       "}\n",
       "\n",
       "#sk-container-id-4 div.sk-toggleable__content.fitted pre {\n",
       "  /* unfitted */\n",
       "  background-color: var(--sklearn-color-fitted-level-0);\n",
       "}\n",
       "\n",
       "#sk-container-id-4 input.sk-toggleable__control:checked~div.sk-toggleable__content {\n",
       "  /* Expand drop-down */\n",
       "  display: block;\n",
       "  width: 100%;\n",
       "  overflow: visible;\n",
       "}\n",
       "\n",
       "#sk-container-id-4 input.sk-toggleable__control:checked~label.sk-toggleable__label-arrow:before {\n",
       "  content: \"▾\";\n",
       "}\n",
       "\n",
       "/* Pipeline/ColumnTransformer-specific style */\n",
       "\n",
       "#sk-container-id-4 div.sk-label input.sk-toggleable__control:checked~label.sk-toggleable__label {\n",
       "  color: var(--sklearn-color-text);\n",
       "  background-color: var(--sklearn-color-unfitted-level-2);\n",
       "}\n",
       "\n",
       "#sk-container-id-4 div.sk-label.fitted input.sk-toggleable__control:checked~label.sk-toggleable__label {\n",
       "  background-color: var(--sklearn-color-fitted-level-2);\n",
       "}\n",
       "\n",
       "/* Estimator-specific style */\n",
       "\n",
       "/* Colorize estimator box */\n",
       "#sk-container-id-4 div.sk-estimator input.sk-toggleable__control:checked~label.sk-toggleable__label {\n",
       "  /* unfitted */\n",
       "  background-color: var(--sklearn-color-unfitted-level-2);\n",
       "}\n",
       "\n",
       "#sk-container-id-4 div.sk-estimator.fitted input.sk-toggleable__control:checked~label.sk-toggleable__label {\n",
       "  /* fitted */\n",
       "  background-color: var(--sklearn-color-fitted-level-2);\n",
       "}\n",
       "\n",
       "#sk-container-id-4 div.sk-label label.sk-toggleable__label,\n",
       "#sk-container-id-4 div.sk-label label {\n",
       "  /* The background is the default theme color */\n",
       "  color: var(--sklearn-color-text-on-default-background);\n",
       "}\n",
       "\n",
       "/* On hover, darken the color of the background */\n",
       "#sk-container-id-4 div.sk-label:hover label.sk-toggleable__label {\n",
       "  color: var(--sklearn-color-text);\n",
       "  background-color: var(--sklearn-color-unfitted-level-2);\n",
       "}\n",
       "\n",
       "/* Label box, darken color on hover, fitted */\n",
       "#sk-container-id-4 div.sk-label.fitted:hover label.sk-toggleable__label.fitted {\n",
       "  color: var(--sklearn-color-text);\n",
       "  background-color: var(--sklearn-color-fitted-level-2);\n",
       "}\n",
       "\n",
       "/* Estimator label */\n",
       "\n",
       "#sk-container-id-4 div.sk-label label {\n",
       "  font-family: monospace;\n",
       "  font-weight: bold;\n",
       "  display: inline-block;\n",
       "  line-height: 1.2em;\n",
       "}\n",
       "\n",
       "#sk-container-id-4 div.sk-label-container {\n",
       "  text-align: center;\n",
       "}\n",
       "\n",
       "/* Estimator-specific */\n",
       "#sk-container-id-4 div.sk-estimator {\n",
       "  font-family: monospace;\n",
       "  border: 1px dotted var(--sklearn-color-border-box);\n",
       "  border-radius: 0.25em;\n",
       "  box-sizing: border-box;\n",
       "  margin-bottom: 0.5em;\n",
       "  /* unfitted */\n",
       "  background-color: var(--sklearn-color-unfitted-level-0);\n",
       "}\n",
       "\n",
       "#sk-container-id-4 div.sk-estimator.fitted {\n",
       "  /* fitted */\n",
       "  background-color: var(--sklearn-color-fitted-level-0);\n",
       "}\n",
       "\n",
       "/* on hover */\n",
       "#sk-container-id-4 div.sk-estimator:hover {\n",
       "  /* unfitted */\n",
       "  background-color: var(--sklearn-color-unfitted-level-2);\n",
       "}\n",
       "\n",
       "#sk-container-id-4 div.sk-estimator.fitted:hover {\n",
       "  /* fitted */\n",
       "  background-color: var(--sklearn-color-fitted-level-2);\n",
       "}\n",
       "\n",
       "/* Specification for estimator info (e.g. \"i\" and \"?\") */\n",
       "\n",
       "/* Common style for \"i\" and \"?\" */\n",
       "\n",
       ".sk-estimator-doc-link,\n",
       "a:link.sk-estimator-doc-link,\n",
       "a:visited.sk-estimator-doc-link {\n",
       "  float: right;\n",
       "  font-size: smaller;\n",
       "  line-height: 1em;\n",
       "  font-family: monospace;\n",
       "  background-color: var(--sklearn-color-background);\n",
       "  border-radius: 1em;\n",
       "  height: 1em;\n",
       "  width: 1em;\n",
       "  text-decoration: none !important;\n",
       "  margin-left: 0.5em;\n",
       "  text-align: center;\n",
       "  /* unfitted */\n",
       "  border: var(--sklearn-color-unfitted-level-1) 1pt solid;\n",
       "  color: var(--sklearn-color-unfitted-level-1);\n",
       "}\n",
       "\n",
       ".sk-estimator-doc-link.fitted,\n",
       "a:link.sk-estimator-doc-link.fitted,\n",
       "a:visited.sk-estimator-doc-link.fitted {\n",
       "  /* fitted */\n",
       "  border: var(--sklearn-color-fitted-level-1) 1pt solid;\n",
       "  color: var(--sklearn-color-fitted-level-1);\n",
       "}\n",
       "\n",
       "/* On hover */\n",
       "div.sk-estimator:hover .sk-estimator-doc-link:hover,\n",
       ".sk-estimator-doc-link:hover,\n",
       "div.sk-label-container:hover .sk-estimator-doc-link:hover,\n",
       ".sk-estimator-doc-link:hover {\n",
       "  /* unfitted */\n",
       "  background-color: var(--sklearn-color-unfitted-level-3);\n",
       "  color: var(--sklearn-color-background);\n",
       "  text-decoration: none;\n",
       "}\n",
       "\n",
       "div.sk-estimator.fitted:hover .sk-estimator-doc-link.fitted:hover,\n",
       ".sk-estimator-doc-link.fitted:hover,\n",
       "div.sk-label-container:hover .sk-estimator-doc-link.fitted:hover,\n",
       ".sk-estimator-doc-link.fitted:hover {\n",
       "  /* fitted */\n",
       "  background-color: var(--sklearn-color-fitted-level-3);\n",
       "  color: var(--sklearn-color-background);\n",
       "  text-decoration: none;\n",
       "}\n",
       "\n",
       "/* Span, style for the box shown on hovering the info icon */\n",
       ".sk-estimator-doc-link span {\n",
       "  display: none;\n",
       "  z-index: 9999;\n",
       "  position: relative;\n",
       "  font-weight: normal;\n",
       "  right: .2ex;\n",
       "  padding: .5ex;\n",
       "  margin: .5ex;\n",
       "  width: min-content;\n",
       "  min-width: 20ex;\n",
       "  max-width: 50ex;\n",
       "  color: var(--sklearn-color-text);\n",
       "  box-shadow: 2pt 2pt 4pt #999;\n",
       "  /* unfitted */\n",
       "  background: var(--sklearn-color-unfitted-level-0);\n",
       "  border: .5pt solid var(--sklearn-color-unfitted-level-3);\n",
       "}\n",
       "\n",
       ".sk-estimator-doc-link.fitted span {\n",
       "  /* fitted */\n",
       "  background: var(--sklearn-color-fitted-level-0);\n",
       "  border: var(--sklearn-color-fitted-level-3);\n",
       "}\n",
       "\n",
       ".sk-estimator-doc-link:hover span {\n",
       "  display: block;\n",
       "}\n",
       "\n",
       "/* \"?\"-specific style due to the `<a>` HTML tag */\n",
       "\n",
       "#sk-container-id-4 a.estimator_doc_link {\n",
       "  float: right;\n",
       "  font-size: 1rem;\n",
       "  line-height: 1em;\n",
       "  font-family: monospace;\n",
       "  background-color: var(--sklearn-color-background);\n",
       "  border-radius: 1rem;\n",
       "  height: 1rem;\n",
       "  width: 1rem;\n",
       "  text-decoration: none;\n",
       "  /* unfitted */\n",
       "  color: var(--sklearn-color-unfitted-level-1);\n",
       "  border: var(--sklearn-color-unfitted-level-1) 1pt solid;\n",
       "}\n",
       "\n",
       "#sk-container-id-4 a.estimator_doc_link.fitted {\n",
       "  /* fitted */\n",
       "  border: var(--sklearn-color-fitted-level-1) 1pt solid;\n",
       "  color: var(--sklearn-color-fitted-level-1);\n",
       "}\n",
       "\n",
       "/* On hover */\n",
       "#sk-container-id-4 a.estimator_doc_link:hover {\n",
       "  /* unfitted */\n",
       "  background-color: var(--sklearn-color-unfitted-level-3);\n",
       "  color: var(--sklearn-color-background);\n",
       "  text-decoration: none;\n",
       "}\n",
       "\n",
       "#sk-container-id-4 a.estimator_doc_link.fitted:hover {\n",
       "  /* fitted */\n",
       "  background-color: var(--sklearn-color-fitted-level-3);\n",
       "}\n",
       "\n",
       ".estimator-table summary {\n",
       "    padding: .5rem;\n",
       "    font-family: monospace;\n",
       "    cursor: pointer;\n",
       "}\n",
       "\n",
       ".estimator-table details[open] {\n",
       "    padding-left: 0.1rem;\n",
       "    padding-right: 0.1rem;\n",
       "    padding-bottom: 0.3rem;\n",
       "}\n",
       "\n",
       ".estimator-table .parameters-table {\n",
       "    margin-left: auto !important;\n",
       "    margin-right: auto !important;\n",
       "}\n",
       "\n",
       ".estimator-table .parameters-table tr:nth-child(odd) {\n",
       "    background-color: #fff;\n",
       "}\n",
       "\n",
       ".estimator-table .parameters-table tr:nth-child(even) {\n",
       "    background-color: #f6f6f6;\n",
       "}\n",
       "\n",
       ".estimator-table .parameters-table tr:hover {\n",
       "    background-color: #e0e0e0;\n",
       "}\n",
       "\n",
       ".estimator-table table td {\n",
       "    border: 1px solid rgba(106, 105, 104, 0.232);\n",
       "}\n",
       "\n",
       ".user-set td {\n",
       "    color:rgb(255, 94, 0);\n",
       "    text-align: left;\n",
       "}\n",
       "\n",
       ".user-set td.value pre {\n",
       "    color:rgb(255, 94, 0) !important;\n",
       "    background-color: transparent !important;\n",
       "}\n",
       "\n",
       ".default td {\n",
       "    color: black;\n",
       "    text-align: left;\n",
       "}\n",
       "\n",
       ".user-set td i,\n",
       ".default td i {\n",
       "    color: black;\n",
       "}\n",
       "\n",
       ".copy-paste-icon {\n",
       "    background-image: url(data:image/svg+xml;base64,PHN2ZyB4bWxucz0iaHR0cDovL3d3dy53My5vcmcvMjAwMC9zdmciIHZpZXdCb3g9IjAgMCA0NDggNTEyIj48IS0tIUZvbnQgQXdlc29tZSBGcmVlIDYuNy4yIGJ5IEBmb250YXdlc29tZSAtIGh0dHBzOi8vZm9udGF3ZXNvbWUuY29tIExpY2Vuc2UgLSBodHRwczovL2ZvbnRhd2Vzb21lLmNvbS9saWNlbnNlL2ZyZWUgQ29weXJpZ2h0IDIwMjUgRm9udGljb25zLCBJbmMuLS0+PHBhdGggZD0iTTIwOCAwTDMzMi4xIDBjMTIuNyAwIDI0LjkgNS4xIDMzLjkgMTQuMWw2Ny45IDY3LjljOSA5IDE0LjEgMjEuMiAxNC4xIDMzLjlMNDQ4IDMzNmMwIDI2LjUtMjEuNSA0OC00OCA0OGwtMTkyIDBjLTI2LjUgMC00OC0yMS41LTQ4LTQ4bDAtMjg4YzAtMjYuNSAyMS41LTQ4IDQ4LTQ4ek00OCAxMjhsODAgMCAwIDY0LTY0IDAgMCAyNTYgMTkyIDAgMC0zMiA2NCAwIDAgNDhjMCAyNi41LTIxLjUgNDgtNDggNDhMNDggNTEyYy0yNi41IDAtNDgtMjEuNS00OC00OEwwIDE3NmMwLTI2LjUgMjEuNS00OCA0OC00OHoiLz48L3N2Zz4=);\n",
       "    background-repeat: no-repeat;\n",
       "    background-size: 14px 14px;\n",
       "    background-position: 0;\n",
       "    display: inline-block;\n",
       "    width: 14px;\n",
       "    height: 14px;\n",
       "    cursor: pointer;\n",
       "}\n",
       "</style><body><div id=\"sk-container-id-4\" class=\"sk-top-container\"><div class=\"sk-text-repr-fallback\"><pre>MultinomialNB()</pre><b>In a Jupyter environment, please rerun this cell to show the HTML representation or trust the notebook. <br />On GitHub, the HTML representation is unable to render, please try loading this page with nbviewer.org.</b></div><div class=\"sk-container\" hidden><div class=\"sk-item\"><div class=\"sk-estimator fitted sk-toggleable\"><input class=\"sk-toggleable__control sk-hidden--visually\" id=\"sk-estimator-id-4\" type=\"checkbox\" checked><label for=\"sk-estimator-id-4\" class=\"sk-toggleable__label fitted sk-toggleable__label-arrow\"><div><div>MultinomialNB</div></div><div><a class=\"sk-estimator-doc-link fitted\" rel=\"noreferrer\" target=\"_blank\" href=\"https://scikit-learn.org/1.7/modules/generated/sklearn.naive_bayes.MultinomialNB.html\">?<span>Documentation for MultinomialNB</span></a><span class=\"sk-estimator-doc-link fitted\">i<span>Fitted</span></span></div></label><div class=\"sk-toggleable__content fitted\" data-param-prefix=\"\">\n",
       "        <div class=\"estimator-table\">\n",
       "            <details>\n",
       "                <summary>Parameters</summary>\n",
       "                <table class=\"parameters-table\">\n",
       "                  <tbody>\n",
       "                    \n",
       "        <tr class=\"default\">\n",
       "            <td><i class=\"copy-paste-icon\"\n",
       "                 onclick=\"copyToClipboard('alpha',\n",
       "                          this.parentElement.nextElementSibling)\"\n",
       "            ></i></td>\n",
       "            <td class=\"param\">alpha&nbsp;</td>\n",
       "            <td class=\"value\">1.0</td>\n",
       "        </tr>\n",
       "    \n",
       "\n",
       "        <tr class=\"default\">\n",
       "            <td><i class=\"copy-paste-icon\"\n",
       "                 onclick=\"copyToClipboard('force_alpha',\n",
       "                          this.parentElement.nextElementSibling)\"\n",
       "            ></i></td>\n",
       "            <td class=\"param\">force_alpha&nbsp;</td>\n",
       "            <td class=\"value\">True</td>\n",
       "        </tr>\n",
       "    \n",
       "\n",
       "        <tr class=\"default\">\n",
       "            <td><i class=\"copy-paste-icon\"\n",
       "                 onclick=\"copyToClipboard('fit_prior',\n",
       "                          this.parentElement.nextElementSibling)\"\n",
       "            ></i></td>\n",
       "            <td class=\"param\">fit_prior&nbsp;</td>\n",
       "            <td class=\"value\">True</td>\n",
       "        </tr>\n",
       "    \n",
       "\n",
       "        <tr class=\"default\">\n",
       "            <td><i class=\"copy-paste-icon\"\n",
       "                 onclick=\"copyToClipboard('class_prior',\n",
       "                          this.parentElement.nextElementSibling)\"\n",
       "            ></i></td>\n",
       "            <td class=\"param\">class_prior&nbsp;</td>\n",
       "            <td class=\"value\">None</td>\n",
       "        </tr>\n",
       "    \n",
       "                  </tbody>\n",
       "                </table>\n",
       "            </details>\n",
       "        </div>\n",
       "    </div></div></div></div></div><script>function copyToClipboard(text, element) {\n",
       "    // Get the parameter prefix from the closest toggleable content\n",
       "    const toggleableContent = element.closest('.sk-toggleable__content');\n",
       "    const paramPrefix = toggleableContent ? toggleableContent.dataset.paramPrefix : '';\n",
       "    const fullParamName = paramPrefix ? `${paramPrefix}${text}` : text;\n",
       "\n",
       "    const originalStyle = element.style;\n",
       "    const computedStyle = window.getComputedStyle(element);\n",
       "    const originalWidth = computedStyle.width;\n",
       "    const originalHTML = element.innerHTML.replace('Copied!', '');\n",
       "\n",
       "    navigator.clipboard.writeText(fullParamName)\n",
       "        .then(() => {\n",
       "            element.style.width = originalWidth;\n",
       "            element.style.color = 'green';\n",
       "            element.innerHTML = \"Copied!\";\n",
       "\n",
       "            setTimeout(() => {\n",
       "                element.innerHTML = originalHTML;\n",
       "                element.style = originalStyle;\n",
       "            }, 2000);\n",
       "        })\n",
       "        .catch(err => {\n",
       "            console.error('Failed to copy:', err);\n",
       "            element.style.color = 'red';\n",
       "            element.innerHTML = \"Failed!\";\n",
       "            setTimeout(() => {\n",
       "                element.innerHTML = originalHTML;\n",
       "                element.style = originalStyle;\n",
       "            }, 2000);\n",
       "        });\n",
       "    return false;\n",
       "}\n",
       "\n",
       "document.querySelectorAll('.fa-regular.fa-copy').forEach(function(element) {\n",
       "    const toggleableContent = element.closest('.sk-toggleable__content');\n",
       "    const paramPrefix = toggleableContent ? toggleableContent.dataset.paramPrefix : '';\n",
       "    const paramName = element.parentElement.nextElementSibling.textContent.trim();\n",
       "    const fullParamName = paramPrefix ? `${paramPrefix}${paramName}` : paramName;\n",
       "\n",
       "    element.setAttribute('title', fullParamName);\n",
       "});\n",
       "</script></body>"
      ],
      "text/plain": [
       "MultinomialNB()"
      ]
     },
     "execution_count": 34,
     "metadata": {},
     "output_type": "execute_result"
    }
   ],
   "source": [
    "model.fit(x_train,y_train)\n"
   ]
  },
  {
   "cell_type": "code",
   "execution_count": 35,
   "id": "eea8858a",
   "metadata": {},
   "outputs": [
    {
     "data": {
      "text/plain": [
       "0.9529545454545455"
      ]
     },
     "execution_count": 35,
     "metadata": {},
     "output_type": "execute_result"
    }
   ],
   "source": [
    "model.score(x_test,y_test)"
   ]
  },
  {
   "cell_type": "code",
   "execution_count": 22,
   "id": "6155bcbf",
   "metadata": {},
   "outputs": [
    {
     "name": "stdout",
     "output_type": "stream",
     "text": [
      "['English']\n"
     ]
    }
   ],
   "source": [
    "user=input(\"Enter your a text\")\n",
    "data=cv.transform([user]).toarray()\n",
    "output=model.predict(data)\n",
    "print(output)"
   ]
  },
  {
   "cell_type": "code",
   "execution_count": 37,
   "id": "2789e127",
   "metadata": {},
   "outputs": [],
   "source": [
    "import pickle\n",
    "pickle.dump(model,open('langiage.pkl','wb'))"
   ]
  }
 ],
 "metadata": {
  "kernelspec": {
   "display_name": "Python 3",
   "language": "python",
   "name": "python3"
  },
  "language_info": {
   "codemirror_mode": {
    "name": "ipython",
    "version": 3
   },
   "file_extension": ".py",
   "mimetype": "text/x-python",
   "name": "python",
   "nbconvert_exporter": "python",
   "pygments_lexer": "ipython3",
   "version": "3.13.5"
  }
 },
 "nbformat": 4,
 "nbformat_minor": 5
}
